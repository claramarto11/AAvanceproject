{
  "cells": [
    {
      "cell_type": "markdown",
      "metadata": {
        "id": "view-in-github",
        "colab_type": "text"
      },
      "source": [
        "<a href=\"https://colab.research.google.com/github/claramarto11/AAvanceproject/blob/main/Assignment2_tofill.ipynb\" target=\"_parent\"><img src=\"https://colab.research.google.com/assets/colab-badge.svg\" alt=\"Open In Colab\"/></a>"
      ]
    },
    {
      "cell_type": "markdown",
      "metadata": {
        "id": "9h6huz7z1GCi"
      },
      "source": [
        "# Assignment 2\n",
        "\n",
        "To be delivered until 2023/01/06 23:59:59."
      ]
    },
    {
      "cell_type": "markdown",
      "metadata": {
        "id": "KpGdmDSD1GCq"
      },
      "source": [
        "## 1) Arduino\n",
        "\n",
        "You will start by setting up a series of connections in order to extract some data with the Arduino. First make the connections as shown below. **Mind the direction of the temperature sensor. If you have an incorrect position, you will be connection the power to the ground and vice-versa and you will damage the sensor.** The photoresistor sensor on the other hand has no polarity.\n",
        "\n",
        "<img src=\"temp_photo_cropped.png\" width=1000/>\n",
        "\n",
        "On this problem, you will read temperature and luminance from the sensors and print them on the serial.\n",
        "\n",
        "**1)** Code an Arduino sketch, where the value of temperature and luminance are printed to the serial. For each serial print that you make, print the value of temperature, then a semicolon, then the value of luminance with a new line (use no whitespaces). You can do this by using three separate `Serial.print`, with the last one being a `Serial.println`. Print values 5 times per second (use the delay function to control this). Manually influence the readings of the sensors, by covering the photoresistor or shining light on it, and by lightly and carefully touching the temperature sensor to increase its temperature readings.\n",
        "\n",
        "**Note that the temperature sensor appears not to be very reliable. Since the objective of this exercise is just to plot the results, this should not be an issue.**\n",
        "\n",
        "**Copy and paste your arduino code below. You may use a python code cell, even though the code can not be run.**\n",
        "\n",
        "*Hint: for the temperature value to be in celsius, divide the read value by 1024 and multiply it by 500. The luminance does not have to be converted*"
      ]
    },
    {
      "cell_type": "code",
      "execution_count": null,
      "metadata": {
        "id": "v0oNltJr1GCv"
      },
      "outputs": [],
      "source": [
        "float temp;\n",
        "int tempPin = 1;\n",
        "int photecellPin = 0;\n",
        "int photocellReading;\n",
        "\n",
        "void setup() {\n",
        "   Serial.begin(9600);\n",
        "}\n",
        "\n",
        "void loop() {\n",
        "   temp = analogRead(tempPin);\n",
        "   // read analog volt from sensor and save to variable temp\n",
        "   temp = temp * 0.48828125;\n",
        "   // convert the analog volt to its temperature equivalent\n",
        "   photocellReading = analogRead(photecellPin);\n",
        "   Serial.print(temp); // display temperature value\n",
        "   Serial.print(\";\");\n",
        "   Serial.print(photocellReading); // display temperature value\n",
        "   Serial.println();\n",
        "   delay(200); // update sensor reading each one second\n",
        "}"
      ]
    },
    {
      "cell_type": "markdown",
      "metadata": {
        "id": "7o9edJql1GCx"
      },
      "source": [
        "To import the data into Arduino, keep it running (the Serial Monitor must be closed in Arduino) and run the following code. Change the COM port to your own. This block of code will read 1000 values from the Serial. Given that each observation is taken every 0.2 seconds, it should take a minute and a half."
      ]
    },
    {
      "cell_type": "code",
      "execution_count": null,
      "metadata": {
        "id": "R09mE_L-1GC0"
      },
      "outputs": [],
      "source": [
        "import serial\n",
        "import time\n",
        "\n",
        "ser = serial.Serial('COM4', 9600, timeout=1)\n",
        "time.sleep(2)\n",
        "\n",
        "data = []\n",
        "for i in range(500):\n",
        "    line = ser.readline()\n",
        "    if line:\n",
        "        string = line.decode()\n",
        "        data.append(string)\n",
        "\n",
        "ser.close()"
      ]
    },
    {
      "cell_type": "markdown",
      "metadata": {
        "id": "xectQLG-1GC3"
      },
      "source": [
        "Convert the data into a pandas dataframe and save it in a csv file. Besides the value of temperature and luminance, also include the time, considering the first observation at $t=0$ and every observation 0.2 seconds after the previous one. **The file must be submitted in Fenix and included in your Github repo**."
      ]
    },
    {
      "cell_type": "code",
      "execution_count": 29,
      "metadata": {
        "id": "aEsXWTob1GC4",
        "colab": {
          "base_uri": "https://localhost:8080/",
          "height": 481
        },
        "outputId": "588d8cb5-3454-431a-ce90-aedb57e1a292"
      },
      "outputs": [
        {
          "output_type": "stream",
          "name": "stderr",
          "text": [
            "/usr/local/lib/python3.8/dist-packages/pandas/util/_decorators.py:311: ParserWarning: Falling back to the 'python' engine because the 'c' engine does not support regex separators (separators > 1 char and different from '\\s+' are interpreted as regex); you can avoid this warning by specifying engine='python'.\n",
            "  return func(*args, **kwargs)\n"
          ]
        },
        {
          "output_type": "execute_result",
          "data": {
            "text/plain": [
              "     Tempo  Temperatura  Luminusidade\n",
              "0      0.0        22.95           230\n",
              "1      0.2        21.97           229\n",
              "2      0.4        21.97           229\n",
              "3      0.6        22.95           230\n",
              "4      0.8        21.97           230\n",
              "..     ...          ...           ...\n",
              "495   99.0        21.97           238\n",
              "496   99.2        21.48           237\n",
              "497   99.4        21.48           237\n",
              "498   99.6        21.48           237\n",
              "499   99.8        21.97           238\n",
              "\n",
              "[500 rows x 3 columns]"
            ],
            "text/html": [
              "\n",
              "  <div id=\"df-99f86788-7cba-4e39-9738-76acf9062817\">\n",
              "    <div class=\"colab-df-container\">\n",
              "      <div>\n",
              "<style scoped>\n",
              "    .dataframe tbody tr th:only-of-type {\n",
              "        vertical-align: middle;\n",
              "    }\n",
              "\n",
              "    .dataframe tbody tr th {\n",
              "        vertical-align: top;\n",
              "    }\n",
              "\n",
              "    .dataframe thead th {\n",
              "        text-align: right;\n",
              "    }\n",
              "</style>\n",
              "<table border=\"1\" class=\"dataframe\">\n",
              "  <thead>\n",
              "    <tr style=\"text-align: right;\">\n",
              "      <th></th>\n",
              "      <th>Tempo</th>\n",
              "      <th>Temperatura</th>\n",
              "      <th>Luminusidade</th>\n",
              "    </tr>\n",
              "  </thead>\n",
              "  <tbody>\n",
              "    <tr>\n",
              "      <th>0</th>\n",
              "      <td>0.0</td>\n",
              "      <td>22.95</td>\n",
              "      <td>230</td>\n",
              "    </tr>\n",
              "    <tr>\n",
              "      <th>1</th>\n",
              "      <td>0.2</td>\n",
              "      <td>21.97</td>\n",
              "      <td>229</td>\n",
              "    </tr>\n",
              "    <tr>\n",
              "      <th>2</th>\n",
              "      <td>0.4</td>\n",
              "      <td>21.97</td>\n",
              "      <td>229</td>\n",
              "    </tr>\n",
              "    <tr>\n",
              "      <th>3</th>\n",
              "      <td>0.6</td>\n",
              "      <td>22.95</td>\n",
              "      <td>230</td>\n",
              "    </tr>\n",
              "    <tr>\n",
              "      <th>4</th>\n",
              "      <td>0.8</td>\n",
              "      <td>21.97</td>\n",
              "      <td>230</td>\n",
              "    </tr>\n",
              "    <tr>\n",
              "      <th>...</th>\n",
              "      <td>...</td>\n",
              "      <td>...</td>\n",
              "      <td>...</td>\n",
              "    </tr>\n",
              "    <tr>\n",
              "      <th>495</th>\n",
              "      <td>99.0</td>\n",
              "      <td>21.97</td>\n",
              "      <td>238</td>\n",
              "    </tr>\n",
              "    <tr>\n",
              "      <th>496</th>\n",
              "      <td>99.2</td>\n",
              "      <td>21.48</td>\n",
              "      <td>237</td>\n",
              "    </tr>\n",
              "    <tr>\n",
              "      <th>497</th>\n",
              "      <td>99.4</td>\n",
              "      <td>21.48</td>\n",
              "      <td>237</td>\n",
              "    </tr>\n",
              "    <tr>\n",
              "      <th>498</th>\n",
              "      <td>99.6</td>\n",
              "      <td>21.48</td>\n",
              "      <td>237</td>\n",
              "    </tr>\n",
              "    <tr>\n",
              "      <th>499</th>\n",
              "      <td>99.8</td>\n",
              "      <td>21.97</td>\n",
              "      <td>238</td>\n",
              "    </tr>\n",
              "  </tbody>\n",
              "</table>\n",
              "<p>500 rows × 3 columns</p>\n",
              "</div>\n",
              "      <button class=\"colab-df-convert\" onclick=\"convertToInteractive('df-99f86788-7cba-4e39-9738-76acf9062817')\"\n",
              "              title=\"Convert this dataframe to an interactive table.\"\n",
              "              style=\"display:none;\">\n",
              "        \n",
              "  <svg xmlns=\"http://www.w3.org/2000/svg\" height=\"24px\"viewBox=\"0 0 24 24\"\n",
              "       width=\"24px\">\n",
              "    <path d=\"M0 0h24v24H0V0z\" fill=\"none\"/>\n",
              "    <path d=\"M18.56 5.44l.94 2.06.94-2.06 2.06-.94-2.06-.94-.94-2.06-.94 2.06-2.06.94zm-11 1L8.5 8.5l.94-2.06 2.06-.94-2.06-.94L8.5 2.5l-.94 2.06-2.06.94zm10 10l.94 2.06.94-2.06 2.06-.94-2.06-.94-.94-2.06-.94 2.06-2.06.94z\"/><path d=\"M17.41 7.96l-1.37-1.37c-.4-.4-.92-.59-1.43-.59-.52 0-1.04.2-1.43.59L10.3 9.45l-7.72 7.72c-.78.78-.78 2.05 0 2.83L4 21.41c.39.39.9.59 1.41.59.51 0 1.02-.2 1.41-.59l7.78-7.78 2.81-2.81c.8-.78.8-2.07 0-2.86zM5.41 20L4 18.59l7.72-7.72 1.47 1.35L5.41 20z\"/>\n",
              "  </svg>\n",
              "      </button>\n",
              "      \n",
              "  <style>\n",
              "    .colab-df-container {\n",
              "      display:flex;\n",
              "      flex-wrap:wrap;\n",
              "      gap: 12px;\n",
              "    }\n",
              "\n",
              "    .colab-df-convert {\n",
              "      background-color: #E8F0FE;\n",
              "      border: none;\n",
              "      border-radius: 50%;\n",
              "      cursor: pointer;\n",
              "      display: none;\n",
              "      fill: #1967D2;\n",
              "      height: 32px;\n",
              "      padding: 0 0 0 0;\n",
              "      width: 32px;\n",
              "    }\n",
              "\n",
              "    .colab-df-convert:hover {\n",
              "      background-color: #E2EBFA;\n",
              "      box-shadow: 0px 1px 2px rgba(60, 64, 67, 0.3), 0px 1px 3px 1px rgba(60, 64, 67, 0.15);\n",
              "      fill: #174EA6;\n",
              "    }\n",
              "\n",
              "    [theme=dark] .colab-df-convert {\n",
              "      background-color: #3B4455;\n",
              "      fill: #D2E3FC;\n",
              "    }\n",
              "\n",
              "    [theme=dark] .colab-df-convert:hover {\n",
              "      background-color: #434B5C;\n",
              "      box-shadow: 0px 1px 3px 1px rgba(0, 0, 0, 0.15);\n",
              "      filter: drop-shadow(0px 1px 2px rgba(0, 0, 0, 0.3));\n",
              "      fill: #FFFFFF;\n",
              "    }\n",
              "  </style>\n",
              "\n",
              "      <script>\n",
              "        const buttonEl =\n",
              "          document.querySelector('#df-99f86788-7cba-4e39-9738-76acf9062817 button.colab-df-convert');\n",
              "        buttonEl.style.display =\n",
              "          google.colab.kernel.accessAllowed ? 'block' : 'none';\n",
              "\n",
              "        async function convertToInteractive(key) {\n",
              "          const element = document.querySelector('#df-99f86788-7cba-4e39-9738-76acf9062817');\n",
              "          const dataTable =\n",
              "            await google.colab.kernel.invokeFunction('convertToInteractive',\n",
              "                                                     [key], {});\n",
              "          if (!dataTable) return;\n",
              "\n",
              "          const docLinkHtml = 'Like what you see? Visit the ' +\n",
              "            '<a target=\"_blank\" href=https://colab.research.google.com/notebooks/data_table.ipynb>data table notebook</a>'\n",
              "            + ' to learn more about interactive tables.';\n",
              "          element.innerHTML = '';\n",
              "          dataTable['output_type'] = 'display_data';\n",
              "          await google.colab.output.renderOutput(dataTable, element);\n",
              "          const docLink = document.createElement('div');\n",
              "          docLink.innerHTML = docLinkHtml;\n",
              "          element.appendChild(docLink);\n",
              "        }\n",
              "      </script>\n",
              "    </div>\n",
              "  </div>\n",
              "  "
            ]
          },
          "metadata": {},
          "execution_count": 29
        }
      ],
      "source": [
        "import numpy as np\n",
        "import pandas as pd\n",
        "import sklearn\n",
        "import seaborn as sns\n",
        "import matplotlib.pyplot as plt\n",
        "import csv\n",
        "import gspread_dataframe\n",
        "\n",
        "data3 = pd.read_csv('Dados_3.txt', sep=\"    \", header=None)\n",
        "data3.columns = [\"Temperatura\", \"Luminusidade\"]\n",
        "length=data3.shape[0]\n",
        "tempo=np.zeros(length)\n",
        "tempo[0]=0\n",
        "for i in range(1,length):\n",
        "  tempo[i]=tempo[i-1]+0.2\n",
        "data3.insert(loc=0,column='Tempo',value=tempo)\n",
        "\n",
        "df=pd.DataFrame(data = data3)\n",
        "df.to_csv('Dados_3.csv')\n",
        "\n",
        "df"
      ]
    },
    {
      "cell_type": "markdown",
      "metadata": {
        "id": "aKCmTLGv1GC6"
      },
      "source": [
        "Plot the Temperature against time, the luminance against time and the temperature against the luminance."
      ]
    },
    {
      "cell_type": "code",
      "execution_count": 36,
      "metadata": {
        "id": "HDBt_Bg81GC8",
        "colab": {
          "base_uri": "https://localhost:8080/",
          "height": 560
        },
        "outputId": "1f64bc80-0560-4c9e-98c4-5de756caf7d1"
      },
      "outputs": [
        {
          "output_type": "execute_result",
          "data": {
            "text/plain": [
              "<matplotlib.axes._subplots.AxesSubplot at 0x7f17240d0e50>"
            ]
          },
          "metadata": {},
          "execution_count": 36
        },
        {
          "output_type": "display_data",
          "data": {
            "text/plain": [
              "<Figure size 432x288 with 1 Axes>"
            ],
            "image/png": "[encoded data removed]"
          },
          "metadata": {
            "needs_background": "light"
          }
        },
        {
          "output_type": "display_data",
          "data": {
            "text/plain": [
              "<Figure size 432x288 with 1 Axes>"
            ],
            "image/png": "[encoded data removed]"
          },
          "metadata": {
            "needs_background": "light"
          }
        }
      ],
      "source": [
        "df.set_index(['Tempo']).plot()\n",
        "df.plot('Luminusidade','Temperatura')"
      ]
    },
    {
      "cell_type": "markdown",
      "metadata": {
        "id": "2riTJ6az1GC_"
      },
      "source": [
        "## 2) Databases\n",
        "\n",
        "For the databases part of this assignment, you will use the mimic-iii database from the laboratory session. Start by adding a few new tables to the database, using the SQL files included in the assignment's files. Open PGAdmin and connect to your mimic-iii database. **To properly load these tables, load the following files exactly and by the order presented.**\n",
        "\n",
        "1) Run demographic.sql\n",
        "\n",
        "2) Run lab_firstday.sql\n",
        "\n",
        "You will now have to answer a few SQL questions."
      ]
    },
    {
      "cell_type": "markdown",
      "metadata": {
        "id": "SPCqd0iR1GDB"
      },
      "source": [
        "**1.** Open the connection to your mimic-iii database. If you want, you can delete your credentials before submitting the assignment, but if you do so, please run the notebook first, for the results to be displayed."
      ]
    },
    {
      "cell_type": "code",
      "execution_count": null,
      "metadata": {
        "id": "-urlV5kn1GDE"
      },
      "outputs": [],
      "source": []
    },
    {
      "cell_type": "markdown",
      "metadata": {
        "id": "WT5a8-Qw1GDE"
      },
      "source": [
        "**2.** Create a function that receives an SQL query and automatically opens a cursor, queries the database, extracts the columns, creates a pandas database, and closes the connections."
      ]
    },
    {
      "cell_type": "code",
      "execution_count": null,
      "metadata": {
        "id": "D9BKTKhe1GDF"
      },
      "outputs": [],
      "source": []
    },
    {
      "cell_type": "markdown",
      "metadata": {
        "id": "GPkwutt41GDF"
      },
      "source": [
        "**3.** Query the table admissions filtering for admission type as emergency and insurance as private."
      ]
    },
    {
      "cell_type": "code",
      "execution_count": null,
      "metadata": {
        "id": "5nNDd2Jd1GDG"
      },
      "outputs": [],
      "source": []
    },
    {
      "cell_type": "markdown",
      "metadata": {
        "id": "9ApMO-xg1GDH"
      },
      "source": [
        "**4.** Query the table admissions, filtering for the same conditions as the previous exercise (admission type as emergency and insurance as private). Join the \"drgcodes\" table on the admission ID. Display only the columns regarding the subject id, admission id, time of death, and description of the drug."
      ]
    },
    {
      "cell_type": "code",
      "execution_count": null,
      "metadata": {
        "id": "U66ldViz1GDJ"
      },
      "outputs": [],
      "source": []
    },
    {
      "cell_type": "markdown",
      "metadata": {
        "id": "YSvEAdPi1GDK"
      },
      "source": [
        "**5.1.** Obtain the dataset for this problem, by running the SQL query below."
      ]
    },
    {
      "cell_type": "code",
      "execution_count": null,
      "metadata": {
        "id": "RkTYWQwO1GDM"
      },
      "outputs": [],
      "source": [
        "query = \"SELECT pivoted_lab.*,\" +\\\n",
        "                \"gender as gender,\" +\\\n",
        "                \"admission_age,\" +\\\n",
        "                \"ethnicity_grouped as eth_grp,\" +\\\n",
        "                \"hospital_expire_flag,\" +\\\n",
        "                \"los_icu \" +\\\n",
        "        \"FROM demographics \" +\\\n",
        "        \"LEFT JOIN pivoted_lab \" +\\\n",
        "        \"ON demographics.icustay_id = pivoted_lab.icustay_id \" +\\\n",
        "        \"WHERE first_icu_stay = true\""
      ]
    },
    {
      "cell_type": "markdown",
      "metadata": {
        "id": "qnjHJxYL1GDN"
      },
      "source": [
        "**5.2.** Close the connection to your SQL server."
      ]
    },
    {
      "cell_type": "code",
      "execution_count": null,
      "metadata": {
        "id": "NuSyApDL1GDO"
      },
      "outputs": [],
      "source": []
    },
    {
      "cell_type": "markdown",
      "metadata": {
        "id": "o42vCkcW1GDQ"
      },
      "source": [
        "**5.3.** Prepare your dataset:\n",
        "\n",
        "* Drop the ID columns of subject, admission and ICU stay.\n",
        "* Drop columns with at least one NA value.\n",
        "* Encode the categorical columns, the ethnicity and gender ('eth_grp', 'gender'). *Suggestion: use pd.get_dummies*\n",
        "* Consider the column 'hospital_expire_flag' as the response and all remaining columns as the predictors."
      ]
    },
    {
      "cell_type": "code",
      "execution_count": null,
      "metadata": {
        "id": "hCNnLM4P1GDR"
      },
      "outputs": [],
      "source": []
    },
    {
      "cell_type": "markdown",
      "metadata": {
        "id": "-OiGAlBZ1GDR"
      },
      "source": [
        "**6.** Fit the following tree-based classifiers to the dataset. For each method:\n",
        "\n",
        "* Perform k-fold cross validation to evaluate the models. Consider 10 folds.\n",
        "\n",
        "* Plot the ROC curves for each fold, along with the mean ROC curve.\n",
        "\n",
        "* Calculate the mean AUC.\n",
        "\n",
        "**a.** Decision tree."
      ]
    },
    {
      "cell_type": "code",
      "execution_count": null,
      "metadata": {
        "id": "3edd-vbA1GDS"
      },
      "outputs": [],
      "source": []
    },
    {
      "cell_type": "markdown",
      "metadata": {
        "id": "E1fpmSm31GDT"
      },
      "source": [
        "**b.** Random forest"
      ]
    },
    {
      "cell_type": "code",
      "execution_count": null,
      "metadata": {
        "id": "vvvM8sMD1GDU"
      },
      "outputs": [],
      "source": []
    },
    {
      "cell_type": "markdown",
      "metadata": {
        "id": "b9rQ9l541GDU"
      },
      "source": [
        "**c.** Gradient Boosting"
      ]
    },
    {
      "cell_type": "code",
      "execution_count": null,
      "metadata": {
        "id": "8lKiiYqf1GDV"
      },
      "outputs": [],
      "source": []
    },
    {
      "cell_type": "markdown",
      "metadata": {
        "id": "lRG7bPDX1GDW"
      },
      "source": [
        "**7.1.** Perform a grid search cross-validation on the Gradient boosting methods, changing the value of the learning rate (0.01 to 0.5) and the number of estimators (50-500). Consider the mean AUC of the folds as the performance measure."
      ]
    },
    {
      "cell_type": "code",
      "execution_count": null,
      "metadata": {
        "id": "UY-zC7TV1GDX"
      },
      "outputs": [],
      "source": []
    },
    {
      "cell_type": "markdown",
      "metadata": {
        "id": "jca8og4T1GDa"
      },
      "source": [
        "**7.2.** Plot a scatterplot of the learning rate versus the number of estimators, with the mean AUC as the color gradient."
      ]
    },
    {
      "cell_type": "code",
      "execution_count": null,
      "metadata": {
        "id": "V66TfgJ-1GDa"
      },
      "outputs": [],
      "source": []
    },
    {
      "cell_type": "markdown",
      "metadata": {
        "id": "5hE7MFXh1GDb"
      },
      "source": [
        "**8.1.** Perform forward stepwise selection on the dataset. Use the best parameters of the gradient boosting method obtained in **7.1.**."
      ]
    },
    {
      "cell_type": "code",
      "execution_count": null,
      "metadata": {
        "id": "HScIprRj1GDb"
      },
      "outputs": [],
      "source": []
    },
    {
      "cell_type": "markdown",
      "metadata": {
        "id": "HnU8XBrW1GDc"
      },
      "source": [
        "**8.2.** Compare and comment the results from **8.1.** with the features importance obtained through the grid search of queastion **7.1.**."
      ]
    },
    {
      "cell_type": "code",
      "execution_count": null,
      "metadata": {
        "id": "ce557X6q1GDd"
      },
      "outputs": [],
      "source": []
    },
    {
      "cell_type": "markdown",
      "metadata": {
        "id": "374XdIXb1GDd"
      },
      "source": [
        "## 3) Theoretical Questions"
      ]
    },
    {
      "cell_type": "markdown",
      "metadata": {
        "id": "DeOC90yN1GDe"
      },
      "source": [
        "**1.** Consider a dataset where best subset, forward stepwise and backward stepwise selection will be performed. For each of the 3 approaches, we obtain $p+1$ models, $p$ being the total number of predictors. This means that each approach has a model with 0 predictors, one with 1 predictor, one with 2 predictor, up until one model with $p$ predictors. Answer and justify the following questions:\n",
        "\n",
        "**a)** Which of the three models with $k, \\, \\forall_{k \\in [0,p]}$ predictors has the smallest training RSS?"
      ]
    },
    {
      "cell_type": "markdown",
      "metadata": {
        "id": "ADb_EyyR1GDg"
      },
      "source": []
    },
    {
      "cell_type": "markdown",
      "metadata": {
        "id": "cQxtGJGI1GDg"
      },
      "source": [
        "**b)** Which of the three models with $k, \\, \\forall_{k \\in [0,p]}$ predictors has the smallest test RSS?"
      ]
    },
    {
      "cell_type": "markdown",
      "metadata": {
        "id": "fyX8t8Sq1GDh"
      },
      "source": []
    },
    {
      "cell_type": "markdown",
      "metadata": {
        "id": "JWm95IOU1GDh"
      },
      "source": [
        "**c)** Evaluate the following statements with *true* or *false*. Justify your answers.\n",
        "\n",
        "    i. The predictors in the k-variable model identified by forward stepwise selection are a subset of the predictors in the (k+1)-variable model identified by forward stepwise selection."
      ]
    },
    {
      "cell_type": "markdown",
      "metadata": {
        "id": "O72-dN7A1GDh"
      },
      "source": []
    },
    {
      "cell_type": "markdown",
      "metadata": {
        "id": "fecvJx7t1GDh"
      },
      "source": [
        "    ii. The predictors in the k-variable model identified by backward stepwise selection are a subset of the predictors in the (k + 1)-variable model identified by backward stepwise selection."
      ]
    },
    {
      "cell_type": "markdown",
      "metadata": {
        "id": "l0theVLJ1GDi"
      },
      "source": []
    },
    {
      "cell_type": "markdown",
      "metadata": {
        "id": "ccxBr8Rc1GDm"
      },
      "source": [
        "    iii. The predictors in the k-variable model identified by backward stepwise selection are a subset of the predictors in the (k + 1)-variable model identified by forward stepwise selection."
      ]
    },
    {
      "cell_type": "markdown",
      "metadata": {
        "id": "pxI5IE561GDp"
      },
      "source": []
    },
    {
      "cell_type": "markdown",
      "metadata": {
        "id": "LB8KR-BH1GDp"
      },
      "source": [
        "    iv. The predictors in the k-variable model identified by forward stepwise selection are a subset of the predictors in the (k+1)-variable model identified by backward stepwise selection."
      ]
    },
    {
      "cell_type": "markdown",
      "metadata": {
        "id": "AHElUpvI1GDq"
      },
      "source": []
    },
    {
      "cell_type": "markdown",
      "metadata": {
        "id": "WHLqHP5D1GDq"
      },
      "source": [
        "    v. The predictors in the k-variable model identified by best subset selection are a subset of the predictors in the (k + 1)-variable model identified by best subset selection."
      ]
    },
    {
      "cell_type": "markdown",
      "metadata": {
        "id": "iBbESTTZ1GDr"
      },
      "source": []
    },
    {
      "cell_type": "markdown",
      "metadata": {
        "id": "AFPLGwEg1GDr"
      },
      "source": [
        "**2.** Ridge regression tends to give similar coefficient values to correlated variables, whereas lasso regression may give substantially different coefficients to correlated variables. This questions explores this property in a simplified setting.\n",
        "\n",
        "Suppose that $n=2$, $p=2$, $x_{11} = x_{12}$, $x_{21} = x_{22}$. Moreover, suppose that $y_1 + y_2 = 0$ and $x_{11} + x_{21} = 0$ and $x_{12} + x_{22} = 0$, meaning that the estimate for the intercept in a least squares, ridge regression, or lasso regression is zero: $\\hat{\\beta} = 0$.\n",
        "\n",
        "**a)** Write the ridge regression optimization problem in this setting."
      ]
    },
    {
      "cell_type": "markdown",
      "metadata": {
        "id": "LCRg48O61GDs"
      },
      "source": []
    },
    {
      "cell_type": "markdown",
      "metadata": {
        "id": "RrtIsSDw1GDt"
      },
      "source": [
        "**b)** Prove that in this setting, the ridge regression coefficient estimates satisfy $\\hat{\\beta}_1 = \\hat{\\beta}_2$."
      ]
    },
    {
      "cell_type": "markdown",
      "metadata": {
        "id": "KQTyq-Du1GDu"
      },
      "source": []
    },
    {
      "cell_type": "markdown",
      "metadata": {
        "id": "iwpfYT8c1GDv"
      },
      "source": [
        "**c)** Write the lasso regression optimization problem in this setting."
      ]
    },
    {
      "cell_type": "markdown",
      "metadata": {
        "id": "ylKtXL6_1GDw"
      },
      "source": []
    },
    {
      "cell_type": "markdown",
      "metadata": {
        "id": "ey8KUo0u1GDw"
      },
      "source": [
        "**d)** Prove that in this setting, the lasso regression coefficients $\\hat{\\beta}_1$ and $\\hat{\\beta}_2$ are not unique, meaning that there are many possible solutions to the optimization problem in (c). Describe these solutions."
      ]
    },
    {
      "cell_type": "markdown",
      "metadata": {
        "id": "m7bcd-U11GDx"
      },
      "source": []
    },
    {
      "cell_type": "markdown",
      "metadata": {
        "id": "NQSIXtRz1GDx"
      },
      "source": [
        "**3.** Draw an example of a partition of two-dimensional feature space that could result from recursive binary splitting. Your example should contain at least six regions. Draw a decision tree corresponding to this partition. Be sure to label all aspects of your figures, including the regions R1, R2,..., the cutpoints t1, t2,..., and so forth.\n",
        "\n",
        "If you prefer you can draw it by hand or in any software and use a scan of it."
      ]
    },
    {
      "cell_type": "markdown",
      "metadata": {
        "id": "ekvjf2kb1GDy"
      },
      "source": []
    },
    {
      "cell_type": "markdown",
      "metadata": {
        "id": "h1YD_mrO1GDz"
      },
      "source": [
        "**4.** In 2 dimensions, a linear decision boundary takes the form $\\beta_0 + \\beta_1 X_1 + \\beta_2 X_2 = 0$. Consider a nn-linear decision boundary:\n",
        "\n",
        "**a)** Sketch the curve\n",
        "\n",
        "$$(1 + X_1)^2 + (2 - X_2)^2 = 4$$\n",
        "\n",
        "Additionally, indicate on your sketch the set of points that verify the condition\n",
        "\n",
        "$$(1 + X_1)^2 + (2 - X_2)^2 > 4$$\n",
        "\n",
        "and the condition\n",
        "\n",
        "$$(1 + X_1)^2 + (2 - X_2)^2 \\leq 4$$"
      ]
    },
    {
      "cell_type": "code",
      "execution_count": null,
      "metadata": {
        "id": "61Nn0F-g1GDz"
      },
      "outputs": [],
      "source": []
    },
    {
      "cell_type": "markdown",
      "metadata": {
        "id": "0G9dFDa51GD0"
      },
      "source": [
        "**b)** Suppose that a classifier assigns an observation to the blue class if $(1 + X_1)^2 + (2 - X_2)^2 > 4$ and to the red class otherwise. To what class are the following observations classified? (0,0), (-1,1), (2,2), (3,8)"
      ]
    },
    {
      "cell_type": "markdown",
      "metadata": {
        "id": "lsIbKgbJ1GD0"
      },
      "source": []
    },
    {
      "cell_type": "markdown",
      "metadata": {
        "id": "3U_a0H-N1GD1"
      },
      "source": [
        "**c)** Prove that while the decision boundary in (b) is not linear in terms of $X_1$ and $X_2$, it is linear in terms of $X_1$, $X_1^2$, $X_2$, and $X_2^2$."
      ]
    },
    {
      "cell_type": "markdown",
      "metadata": {
        "id": "MAAqEvMD1GD1"
      },
      "source": []
    },
    {
      "cell_type": "markdown",
      "metadata": {
        "id": "8sL7I7fU1GD2"
      },
      "source": [
        "# 4) Laboratory Questions\n",
        "\n",
        "What are the advantages and disadvantages of relational dabases versus graph databases, and when should one type be preferred over the other?"
      ]
    },
    {
      "cell_type": "markdown",
      "metadata": {
        "id": "-iUNLB0a1GD3"
      },
      "source": [
        "Advantages of Relational Databases: \n",
        "- With proper indexing, relational databases are highly efficient for data retrieval. \n",
        "- They are well-suited for complex queries, with the ability to join multiple tables together.\n",
        "- Data is stored in a structured way, with the data organized into tables and columns, making it easier for users to query and manipulate the data.\n",
        "- These databases are also highly scalable, allowing for the addition of more data or additional features as needed.\n",
        "\n",
        "Disadvantages of Relational Databases:\n",
        "- There is a steep learning curve for users to understand the structure of the database and properly query it.\n",
        "- These databases are not always good for handling large amounts of unstructured data.\n",
        "- Maintenance of the database can be difficult, since changes to the schema can cause conflicts with existing data.\n",
        "\n",
        "Advantages of Graph Databases:\n",
        "- Graph databases are well-suited for data that has relationships, since they are able to store and query data in a more intuitive way.\n",
        "- They are highly efficient for traversing and querying data, since they store the data in a graph structure.\n",
        "- Graph databases can easily handle large amounts of unstructured data.\n",
        "\n",
        "\n",
        "Disadvantages of Graph Databases:\n",
        "- Expensive: Graph databases are expensive to set up and maintain, which may make them out of reach for some organizations.\n",
        "- Complex To Maintain: Graph databases require a higher level of technical expertise to maintain, which can be a challenge for some organizations.\n",
        "- Limited Data Types: Graph databases are limited in the types of data they can store, which may limit the amount of data that can be stored and accessed.\n",
        "- Limited Indexing Capabilities: Graph databases have limited indexing capabilities, which can make it difficult to quickly search and find data.\n"
      ]
    }
  ],
  "metadata": {
    "kernelspec": {
      "display_name": "Python 3",
      "language": "python",
      "name": "python3"
    },
    "language_info": {
      "codemirror_mode": {
        "name": "ipython",
        "version": 3
      },
      "file_extension": ".py",
      "mimetype": "text/x-python",
      "name": "python",
      "nbconvert_exporter": "python",
      "pygments_lexer": "ipython3",
      "version": "3.7.6"
    },
    "colab": {
      "provenance": [],
      "include_colab_link": true
    }
  },
  "nbformat": 4,
  "nbformat_minor": 0
}