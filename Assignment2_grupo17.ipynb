{
  "cells": [
    {
      "cell_type": "markdown",
      "metadata": {
        "id": "view-in-github",
        "colab_type": "text"
      },
      "source": [
        "<a href=\"https://colab.research.google.com/github/claramarto11/AAvanceproject/blob/Clara/Assignment2_grupo17.ipynb\" target=\"_parent\"><img src=\"https://colab.research.google.com/assets/colab-badge.svg\" alt=\"Open In Colab\"/></a>"
      ]
    },
    {
      "cell_type": "markdown",
      "metadata": {
        "id": "VOO6DHSz7poN"
      },
      "source": [
        "# Assignment 2\n",
        "\n",
        "To be delivered until 2023/01/06 23:59:59."
      ]
    },
    {
      "cell_type": "markdown",
      "metadata": {
        "id": "Ql3zNNOj7poR"
      },
      "source": [
        "## 1) Arduino\n",
        "\n",
        "You will start by setting up a series of connections in order to extract some data with the Arduino. First make the connections as shown below. **Mind the direction of the temperature sensor. If you have an incorrect position, you will be connection the power to the ground and vice-versa and you will damage the sensor.** The photoresistor sensor on the other hand has no polarity.\n",
        "\n",
        "<img src=\"temp_photo_cropped.png\" width=1000/>\n",
        "\n",
        "On this problem, you will read temperature and luminance from the sensors and print them on the serial.\n",
        "\n",
        "**1)** Code an Arduino sketch, where the value of temperature and luminance are printed to the serial. For each serial print that you make, print the value of temperature, then a semicolon, then the value of luminance with a new line (use no whitespaces). You can do this by using three separate `Serial.print`, with the last one being a `Serial.println`. Print values 5 times per second (use the delay function to control this). Manually influence the readings of the sensors, by covering the photoresistor or shining light on it, and by lightly and carefully touching the temperature sensor to increase its temperature readings.\n",
        "\n",
        "**Note that the temperature sensor appears not to be very reliable. Since the objective of this exercise is just to plot the results, this should not be an issue.**\n",
        "\n",
        "**Copy and paste your arduino code below. You may use a python code cell, even though the code can not be run.**\n",
        "\n",
        "*Hint: for the temperature value to be in celsius, divide the read value by 1024 and multiply it by 500. The luminance does not have to be converted*"
      ]
    },
    {
      "cell_type": "code",
      "execution_count": null,
      "metadata": {
        "id": "SD15iYqM7poT"
      },
      "outputs": [],
      "source": [
        "float temp;\n",
        "int tempPin = 1;\n",
        "int photecellPin = 0;\n",
        "int photocellReading;\n",
        "\n",
        "void setup() {\n",
        "   Serial.begin(9600);\n",
        "}\n",
        "\n",
        "void loop() {\n",
        "   temp = analogRead(tempPin);\n",
        "   // read analog volt from sensor and save to variable temp\n",
        "   temp = temp * 0.48828125;\n",
        "   // convert the analog volt to its temperature equivalent\n",
        "   photocellReading = analogRead(photecellPin);\n",
        "   Serial.print(temp); // display temperature value\n",
        "   Serial.print(\";\");\n",
        "   Serial.print(photocellReading); // display temperature value\n",
        "   Serial.println();\n",
        "   delay(200); // update sensor reading each one second\n",
        "}"
      ]
    },
    {
      "cell_type": "markdown",
      "metadata": {
        "id": "gDyQv6-N7poU"
      },
      "source": [
        "To import the data into Arduino, keep it running (the Serial Monitor must be closed in Arduino) and run the following code. Change the COM port to your own. This block of code will read 1000 values from the Serial. Given that each observation is taken every 0.2 seconds, it should take a minute and a half."
      ]
    },
    {
      "cell_type": "code",
      "execution_count": null,
      "metadata": {
        "id": "jeqYrHqZ7poU"
      },
      "outputs": [],
      "source": [
        "import serial\n",
        "import time\n",
        "\n",
        "ser = serial.Serial('COM4', 9600, timeout=1)\n",
        "time.sleep(2)\n",
        "\n",
        "data = []\n",
        "for i in range(500):\n",
        "    line = ser.readline()\n",
        "    if line:\n",
        "        string = line.decode()\n",
        "        data.append(string)\n",
        "\n",
        "ser.close()"
      ]
    },
    {
      "cell_type": "markdown",
      "metadata": {
        "id": "MP_iR5XV7poW"
      },
      "source": [
        "Convert the data into a pandas dataframe and save it in a csv file. Besides the value of temperature and luminance, also include the time, considering the first observation at $t=0$ and every observation 0.2 seconds after the previous one. **The file must be submitted in Fenix and included in your Github repo**."
      ]
    },
    {
      "cell_type": "code",
      "execution_count": null,
      "metadata": {
        "id": "RdZJg41z7poX"
      },
      "outputs": [],
      "source": [
        "import numpy as np\n",
        "import pandas as pd\n",
        "import sklearn\n",
        "import seaborn as sns\n",
        "import matplotlib.pyplot as plt\n",
        "import csv\n",
        "import gspread_dataframe\n",
        "\n",
        "data3 = pd.read_csv('Dados_3.txt', sep=\"    \", header=None)\n",
        "data3.columns = [\"Temperatura\", \"Luminusidade\"]\n",
        "length=data3.shape[0]\n",
        "tempo=np.zeros(length)\n",
        "tempo[0]=0\n",
        "for i in range(1,length):\n",
        "  tempo[i]=tempo[i-1]+0.2\n",
        "data3.insert(loc=0,column='Tempo',value=tempo)\n",
        "\n",
        "df=pd.DataFrame(data = data3)\n",
        "df.to_csv('Dados_3.csv')\n",
        "\n",
        "df"
      ]
    },
    {
      "cell_type": "markdown",
      "metadata": {
        "id": "ozHUMx7i7poX"
      },
      "source": [
        "Plot the Temperature against time, the luminance against time and the temperature against the luminance."
      ]
    },
    {
      "cell_type": "code",
      "execution_count": null,
      "metadata": {
        "id": "a25Ys8B57poX"
      },
      "outputs": [],
      "source": [
        "df.set_index(['Tempo']).plot()\n",
        "df.plot('Luminusidade','Temperatura')"
      ]
    },
    {
      "cell_type": "markdown",
      "metadata": {
        "id": "p9X5XTMf7poY"
      },
      "source": [
        "## 2) Databases\n",
        "\n",
        "For the databases part of this assignment, you will use the mimic-iii database from the laboratory session. Start by adding a few new tables to the database, using the SQL files included in the assignment's files. Open PGAdmin and connect to your mimic-iii database. **To properly load these tables, load the following files exactly and by the order presented.**\n",
        "\n",
        "1) Run demographic.sql\n",
        "\n",
        "2) Run lab_firstday.sql\n",
        "\n",
        "You will now have to answer a few SQL questions."
      ]
    },
    {
      "cell_type": "markdown",
      "metadata": {
        "id": "oi0--qha7poY"
      },
      "source": [
        "**1.** Open the connection to your mimic-iii database. If you want, you can delete your credentials before submitting the assignment, but if you do so, please run the notebook first, for the results to be displayed."
      ]
    },
    {
      "cell_type": "code",
      "execution_count": null,
      "metadata": {
        "id": "jtKqXWT47poZ"
      },
      "outputs": [],
      "source": []
    },
    {
      "cell_type": "markdown",
      "metadata": {
        "id": "gxqt9Kpk7poZ"
      },
      "source": [
        "**2.** Create a function that receives an SQL query and automatically opens a cursor, queries the database, extracts the columns, creates a pandas database, and closes the connections."
      ]
    },
    {
      "cell_type": "code",
      "execution_count": null,
      "metadata": {
        "id": "qFeQx1O67poZ"
      },
      "outputs": [],
      "source": []
    },
    {
      "cell_type": "markdown",
      "metadata": {
        "id": "iLhW7ZDB7poa"
      },
      "source": [
        "**3.** Query the table admissions filtering for admission type as emergency and insurance as private."
      ]
    },
    {
      "cell_type": "code",
      "execution_count": null,
      "metadata": {
        "id": "dGcouzcl7poa"
      },
      "outputs": [],
      "source": []
    },
    {
      "cell_type": "markdown",
      "metadata": {
        "id": "Ve15nDmC7pob"
      },
      "source": [
        "**4.** Query the table admissions, filtering for the same conditions as the previous exercise (admission type as emergency and insurance as private). Join the \"drgcodes\" table on the admission ID. Display only the columns regarding the subject id, admission id, time of death, and description of the drug."
      ]
    },
    {
      "cell_type": "code",
      "execution_count": null,
      "metadata": {
        "id": "0h4_BbMF7pob"
      },
      "outputs": [],
      "source": []
    },
    {
      "cell_type": "markdown",
      "metadata": {
        "id": "V0NK-mVq7pob"
      },
      "source": [
        "**5.1.** Obtain the dataset for this problem, by running the SQL query below."
      ]
    },
    {
      "cell_type": "code",
      "execution_count": null,
      "metadata": {
        "id": "CCbiR75K7poc"
      },
      "outputs": [],
      "source": [
        "query = \"SELECT pivoted_lab.*,\" +\\\n",
        "                \"gender as gender,\" +\\\n",
        "                \"admission_age,\" +\\\n",
        "                \"ethnicity_grouped as eth_grp,\" +\\\n",
        "                \"hospital_expire_flag,\" +\\\n",
        "                \"los_icu \" +\\\n",
        "        \"FROM demographics \" +\\\n",
        "        \"LEFT JOIN pivoted_lab \" +\\\n",
        "        \"ON demographics.icustay_id = pivoted_lab.icustay_id \" +\\\n",
        "        \"WHERE first_icu_stay = true\""
      ]
    },
    {
      "cell_type": "markdown",
      "metadata": {
        "id": "bD9a0hin7pod"
      },
      "source": [
        "**5.2.** Close the connection to your SQL server."
      ]
    },
    {
      "cell_type": "code",
      "execution_count": null,
      "metadata": {
        "id": "UAMn891i7pod"
      },
      "outputs": [],
      "source": []
    },
    {
      "cell_type": "markdown",
      "metadata": {
        "id": "TJERz0yR7pod"
      },
      "source": [
        "**5.3.** Prepare your dataset:\n",
        "\n",
        "* Drop the ID columns of subject, admission and ICU stay.\n",
        "* Drop columns with at least one NA value.\n",
        "* Encode the categorical columns, the ethnicity and gender ('eth_grp', 'gender'). *Suggestion: use pd.get_dummies*\n",
        "* Consider the column 'hospital_expire_flag' as the response and all remaining columns as the predictors."
      ]
    },
    {
      "cell_type": "code",
      "execution_count": null,
      "metadata": {
        "id": "98T4C4nA7poe"
      },
      "outputs": [],
      "source": []
    },
    {
      "cell_type": "markdown",
      "metadata": {
        "id": "WsIToHp87poe"
      },
      "source": [
        "**6.** Fit the following tree-based classifiers to the dataset. For each method:\n",
        "\n",
        "* Perform k-fold cross validation to evaluate the models. Consider 10 folds.\n",
        "\n",
        "* Plot the ROC curves for each fold, along with the mean ROC curve.\n",
        "\n",
        "* Calculate the mean AUC.\n",
        "\n",
        "**a.** Decision tree."
      ]
    },
    {
      "cell_type": "code",
      "execution_count": null,
      "metadata": {
        "id": "8LVViZrh7pof"
      },
      "outputs": [],
      "source": []
    },
    {
      "cell_type": "markdown",
      "metadata": {
        "id": "GEAX5Jml7pof"
      },
      "source": [
        "**b.** Random forest"
      ]
    },
    {
      "cell_type": "code",
      "execution_count": null,
      "metadata": {
        "id": "orcn2MPj7pof"
      },
      "outputs": [],
      "source": []
    },
    {
      "cell_type": "markdown",
      "metadata": {
        "id": "v_ESaGoN7pog"
      },
      "source": [
        "**c.** Gradient Boosting"
      ]
    },
    {
      "cell_type": "code",
      "execution_count": null,
      "metadata": {
        "id": "gK5tmJXL7pog"
      },
      "outputs": [],
      "source": []
    },
    {
      "cell_type": "markdown",
      "metadata": {
        "id": "6bAVk_ng7pog"
      },
      "source": [
        "**7.1.** Perform a grid search cross-validation on the Gradient boosting methods, changing the value of the learning rate (0.01 to 0.5) and the number of estimators (50-500). Consider the mean AUC of the folds as the performance measure."
      ]
    },
    {
      "cell_type": "code",
      "execution_count": null,
      "metadata": {
        "id": "QCyIwlSY7poh"
      },
      "outputs": [],
      "source": []
    },
    {
      "cell_type": "markdown",
      "metadata": {
        "id": "j6CDUjC27poi"
      },
      "source": [
        "**7.2.** Plot a scatterplot of the learning rate versus the number of estimators, with the mean AUC as the color gradient."
      ]
    },
    {
      "cell_type": "code",
      "execution_count": null,
      "metadata": {
        "id": "Hbi74fXr7poj"
      },
      "outputs": [],
      "source": []
    },
    {
      "cell_type": "markdown",
      "metadata": {
        "id": "V02xH-g37pok"
      },
      "source": [
        "**8.1.** Perform forward stepwise selection on the dataset. Use the best parameters of the gradient boosting method obtained in **7.1.**."
      ]
    },
    {
      "cell_type": "code",
      "execution_count": null,
      "metadata": {
        "id": "vrasWwto7pok"
      },
      "outputs": [],
      "source": []
    },
    {
      "cell_type": "markdown",
      "metadata": {
        "id": "wDZXvkfA7pol"
      },
      "source": [
        "**8.2.** Compare and comment the results from **8.1.** with the features importance obtained through the grid search of queastion **7.1.**."
      ]
    },
    {
      "cell_type": "code",
      "execution_count": null,
      "metadata": {
        "id": "UQ5SLOA47pol"
      },
      "outputs": [],
      "source": []
    },
    {
      "cell_type": "markdown",
      "metadata": {
        "id": "70YMhduu7pol"
      },
      "source": [
        "## 3) Theoretical Questions"
      ]
    },
    {
      "cell_type": "markdown",
      "metadata": {
        "id": "NdpkA9Kg7pom"
      },
      "source": [
        "**1.** Consider a dataset where best subset, forward stepwise and backward stepwise selection will be performed. For each of the 3 approaches, we obtain $p+1$ models, $p$ being the total number of predictors. This means that each approach has a model with 0 predictors, one with 1 predictor, one with 2 predictor, up until one model with $p$ predictors. Answer and justify the following questions:\n",
        "\n",
        "**a)** Which of the three models with $k, \\, \\forall_{k \\in [0,p]}$ predictors has the smallest training RSS?"
      ]
    },
    {
      "cell_type": "markdown",
      "metadata": {
        "id": "UDzGJof97pom"
      },
      "source": [
        "\n",
        "\n",
        "---\n",
        "\n",
        "The model with k predictors which has the smallest training RSS is the one obtained from the best subset selection as it is the one selected among all k predictors models. Because, when performing best subset selection, the model with k predictors is the model with the smallest RSS among all the $C^{k}_{p}$ models with k predictors. On the other hand, when performing forward stepwise selection, the model with k predictors is the model with the smallest RSS among the p-k models which increase the predictors in $M_{k-1}$ with one additional predictor. Lastly, when performing backward stepwise selection, the model with k predictors is the model with the smallest RSS among the k models which contains all but one of the predictors in $M_{k+1}$.\n",
        "\n",
        "---\n",
        "\n"
      ]
    },
    {
      "cell_type": "markdown",
      "metadata": {
        "id": "TmSNRCat7pom"
      },
      "source": [
        "**b)** Which of the three models with $k, \\, \\forall_{k \\in [0,p]}$ predictors has the smallest test RSS?"
      ]
    },
    {
      "cell_type": "markdown",
      "metadata": {
        "id": "oHtOpgJp7pon"
      },
      "source": [
        "\n",
        "\n",
        "---\n",
        "\n",
        "\n",
        "The best subset selection may have the smallest test RSS because it takes into account more models than the other methods. However, it should be noted that the other methods might also pick a model with smaller test RSS by luck. \n",
        "\n",
        "\n",
        "---\n",
        "\n"
      ]
    },
    {
      "cell_type": "markdown",
      "metadata": {
        "id": "CZVy2QLh7pon"
      },
      "source": [
        "**c)** Evaluate the following statements with *true* or *false*. Justify your answers.\n",
        "\n",
        "    i. The predictors in the k-variable model identified by forward stepwise selection are a subset of the predictors in the (k+1)-variable model identified by forward stepwise selection."
      ]
    },
    {
      "cell_type": "markdown",
      "metadata": {
        "id": "ICfiaLsd7poo"
      },
      "source": [
        "\n",
        "\n",
        "---\n",
        "\n",
        "\n",
        "True. The model with (k+1) predictors is obtained by increasing the predictors in the model with k predictors with one additional predictor.\n",
        "\n",
        "\n",
        "---\n",
        "\n",
        "\n",
        "\n",
        "\n",
        "\n"
      ]
    },
    {
      "cell_type": "markdown",
      "metadata": {
        "id": "he773rCo7poo"
      },
      "source": [
        "    ii. The predictors in the k-variable model identified by backward stepwise selection are a subset of the predictors in the (k + 1)-variable model identified by backward stepwise selection."
      ]
    },
    {
      "cell_type": "markdown",
      "metadata": {
        "id": "I2YNNdIu7poo"
      },
      "source": [
        "\n",
        "\n",
        "---\n",
        "True. The model with k predictors is obtained by removing one predictor from the model with (k+1) predictors.\n",
        "\n",
        "\n",
        "---\n",
        "\n"
      ]
    },
    {
      "cell_type": "markdown",
      "metadata": {
        "id": "KQOoY3go7poo"
      },
      "source": [
        "    iii. The predictors in the k-variable model identified by backward stepwise selection are a subset of the predictors in the (k + 1)-variable model identified by forward stepwise selection."
      ]
    },
    {
      "cell_type": "markdown",
      "metadata": {
        "id": "cDmI2JNY7pop"
      },
      "source": [
        "\n",
        "\n",
        "---\n",
        "\n",
        "\n",
        "False. There is no direct link between the models obtained from forward and backward selection. \n",
        "\n",
        "\n",
        "---\n",
        "\n"
      ]
    },
    {
      "cell_type": "markdown",
      "metadata": {
        "id": "Sj0w2clw7pop"
      },
      "source": [
        "    iv. The predictors in the k-variable model identified by forward stepwise selection are a subset of the predictors in the (k+1)-variable model identified by backward stepwise selection."
      ]
    },
    {
      "cell_type": "markdown",
      "metadata": {
        "id": "QN6_hj7R7poq"
      },
      "source": [
        "\n",
        "---\n",
        "\n",
        "\n",
        "False. There is no direct link between the models obtained from forward and backward selection. \n",
        "\n",
        "\n",
        "---\n"
      ]
    },
    {
      "cell_type": "markdown",
      "metadata": {
        "id": "fHz7y8sF7por"
      },
      "source": [
        "    v. The predictors in the k-variable model identified by best subset selection are a subset of the predictors in the (k + 1)-variable model identified by best subset selection."
      ]
    },
    {
      "cell_type": "markdown",
      "metadata": {
        "id": "GHTRJ3Fr7por"
      },
      "source": [
        "\n",
        "\n",
        "---\n",
        "False. The model with (k+1) predictors is obtained by selecting among all possible models with (k+1) predictors, and so does not necessarily contain all the predictors selected for the k-variable model. \n",
        "\n",
        "\n",
        "---\n",
        "\n"
      ]
    },
    {
      "cell_type": "markdown",
      "metadata": {
        "id": "VVs9Qo167por"
      },
      "source": [
        "**2.** Ridge regression tends to give similar coefficient values to correlated variables, whereas lasso regression may give substantially different coefficients to correlated variables. This questions explores this property in a simplified setting.\n",
        "\n",
        "Suppose that $n=2$, $p=2$, $x_{11} = x_{12}$, $x_{21} = x_{22}$. Moreover, suppose that $y_1 + y_2 = 0$ and $x_{11} + x_{21} = 0$ and $x_{12} + x_{22} = 0$, meaning that the estimate for the intercept in a least squares, ridge regression, or lasso regression is zero: $\\hat{\\beta} = 0$.\n",
        "\n",
        "**a)** Write the ridge regression optimization problem in this setting."
      ]
    },
    {
      "cell_type": "markdown",
      "metadata": {
        "id": "6vUtQ3qE7pos"
      },
      "source": [
        "\n",
        "\n",
        "---\n",
        "\n",
        "\n",
        "$(y_1 - \\hat{\\beta}_1x_1 - \\hat{\\beta}_2x_2)^2 +(y_2 - \\hat{\\beta}_1x_2 - \\hat{\\beta}_2x_2)^2 + λ(\\hat{\\beta}_1 ^2 + \\hat{\\beta}_2 ^2 )$\n",
        "\n",
        "\n",
        "---\n",
        "\n"
      ]
    },
    {
      "cell_type": "markdown",
      "metadata": {
        "id": "2zxIYwVF7pos"
      },
      "source": [
        "**b)** Prove that in this setting, the ridge regression coefficient estimates satisfy $\\hat{\\beta}_1 = \\hat{\\beta}_2$."
      ]
    },
    {
      "cell_type": "markdown",
      "metadata": {
        "id": "7gf1pa0t7pos"
      },
      "source": [
        "\n",
        "\n",
        "---\n",
        "By taking the derivates of the above expression with respect to $\\hat{\\beta}_1$ and $\\hat{\\beta}_2$ and setting them equal to zero, we obtain:\n",
        "\n",
        "$\\hat{\\beta}_1({x_1}^2 + {x_2}^2 + λ) + \\hat{\\beta}_2({x_1}^2 + {x_2}^2) = y_1x_1 + y_2x_2$ \n",
        "\n",
        "$\\hat{\\beta}_1({x_1}^2 + {x_2}^2) + \\hat{\\beta}_2({x_1}^2 + {x_2}^2 + λ) = y_1x_1 + y_2x_2$\n",
        "\n",
        "By subtracting the two expressions above we get $\\hat{\\beta}_1$ = $\\hat{\\beta}_2$.\n",
        "\n",
        "\n",
        "\n",
        "\n",
        "---\n",
        "\n",
        "\n"
      ]
    },
    {
      "cell_type": "markdown",
      "metadata": {
        "id": "KY_2rqT77pos"
      },
      "source": [
        "**c)** Write the lasso regression optimization problem in this setting."
      ]
    },
    {
      "cell_type": "markdown",
      "metadata": {
        "id": "bC9g4sSx7pot"
      },
      "source": [
        "\n",
        "\n",
        "---\n",
        "\n",
        "\n",
        "$(y_1 - \\hat{\\beta}_1x_1 - \\hat{\\beta}_2x_2)^2 +(y_2 - \\hat{\\beta}_1x_2 - \\hat{\\beta}_2x_2)^2 + λ(|\\hat{\\beta}_1| + |\\hat{\\beta}_2|)$\n",
        "\n",
        "\n",
        "---\n",
        "\n"
      ]
    },
    {
      "cell_type": "markdown",
      "metadata": {
        "id": "e39QScMF7pot"
      },
      "source": [
        "**d)** Prove that in this setting, the lasso regression coefficients $\\hat{\\beta}_1$ and $\\hat{\\beta}_2$ are not unique, meaning that there are many possible solutions to the optimization problem in (c). Describe these solutions."
      ]
    },
    {
      "cell_type": "markdown",
      "metadata": {
        "id": "H2ujgTVm7pot"
      },
      "source": [
        "\n",
        "\n",
        "---\n",
        "\n",
        "\n",
        "We will use the alternate form of the lasso optimization problem\n",
        "\n",
        "$(y_1 - \\hat{\\beta}_1x_1 - \\hat{\\beta}_2x_2)^2 +(y_2 - \\hat{\\beta}_1x_2 - \\hat{\\beta}_2x_2)^2 $ subject to $|\\hat{\\beta}_1| + |\\hat{\\beta}_2| ≤s $\n",
        "\n",
        "Geometrically the lasso constraint take the form of a diamond centered at the origin of the plane $(\\hat{\\beta}_1,\\hat{\\beta}_2)$ which intersects the axes at a distance $s$ from the origin. By using the setting of this problem, we have to minimize the expression:\n",
        "\n",
        "$2[y_1 - (\\hat{\\beta}_1+\\hat{\\beta}_2)x_1]^2 ≥ 0$\n",
        "\n",
        "This optimization problem has a simple solution : $\\hat{\\beta}_1+\\hat{\\beta}_2 =y_1/x_1$.\n",
        "\n",
        "Geometrically, this is a line parallel to the edge of the diamond of the constraints. Now, solutions to the lasso optimization problem are contours of the function $[y_1 - (\\hat{\\beta}_1+\\hat{\\beta}_2)x_1]^2$ that intersects the diamond of the constraints. So, the entire edge $\\hat{\\beta}_1+\\hat{\\beta}_2=s$ is a potential solution to the lasso optimization problem. Thus, the lasso optimization problem has a whole set of solutions instead of a unique one : \n",
        "\n",
        "$(\\hat{\\beta}_1,\\hat{\\beta}_2):\\hat{\\beta}_1+\\hat{\\beta}_2=s$ with $\\hat{\\beta}_1,\\hat{\\beta}_2≥0$ and $\\hat{\\beta}_1+\\hat{\\beta}_2=-s$ with $\\hat{\\beta}_1,\\hat{\\beta}_2≤0$\n",
        "\n",
        "---\n",
        "\n"
      ]
    },
    {
      "cell_type": "markdown",
      "metadata": {
        "id": "Rlmtj1l67pou"
      },
      "source": [
        "**3.** Draw an example of a partition of two-dimensional feature space that could result from recursive binary splitting. Your example should contain at least six regions. Draw a decision tree corresponding to this partition. Be sure to label all aspects of your figures, including the regions R1, R2,..., the cutpoints t1, t2,..., and so forth.\n",
        "\n",
        "If you prefer you can draw it by hand or in any software and use a scan of it."
      ]
    },
    {
      "cell_type": "markdown",
      "metadata": {
        "id": "_vcK3OcM7pou"
      },
      "source": []
    },
    {
      "cell_type": "markdown",
      "metadata": {
        "id": "DnFP8N2K7pov"
      },
      "source": [
        "**4.** In 2 dimensions, a linear decision boundary takes the form $\\beta_0 + \\beta_1 X_1 + \\beta_2 X_2 = 0$. Consider a nn-linear decision boundary:\n",
        "\n",
        "**a)** Sketch the curve\n",
        "\n",
        "$$(1 + X_1)^2 + (2 - X_2)^2 = 4$$\n",
        "\n",
        "Additionally, indicate on your sketch the set of points that verify the condition\n",
        "\n",
        "$$(1 + X_1)^2 + (2 - X_2)^2 > 4$$\n",
        "\n",
        "and the condition\n",
        "\n",
        "$$(1 + X_1)^2 + (2 - X_2)^2 \\leq 4$$"
      ]
    },
    {
      "cell_type": "code",
      "execution_count": 88,
      "metadata": {
        "id": "_q3aGFJO7pov",
        "colab": {
          "base_uri": "https://localhost:8080/",
          "height": 369
        },
        "outputId": "ec0c7f22-45f5-4232-a2ea-9f0d4f7946d2"
      },
      "outputs": [
        {
          "output_type": "display_data",
          "data": {
            "text/plain": [
              "<Figure size 504x360 with 1 Axes>"
            ],
            "image/png": "[encoded data removed]"
          },
          "metadata": {
            "needs_background": "light"
          }
        }
      ],
      "source": [
        "from matplotlib import pyplot as plt, patches\n",
        "import numpy as np\n",
        "\n",
        "fig = plt.figure()\n",
        "ax = fig.add_subplot()\n",
        "circle1 = patches.Circle((-1, 2), radius=2, fill=False)\n",
        "ax.add_patch(circle1)\n",
        "ax.axis('equal')\n",
        "plt.text(-1,2, \"< 4\")\n",
        "plt.text(1.5,2, \"> 4\")\n",
        "plt.grid ()\n",
        "plt.show()"
      ]
    },
    {
      "cell_type": "markdown",
      "metadata": {
        "id": "11ar8YcZ7pow"
      },
      "source": [
        "**b)** Suppose that a classifier assigns an observation to the blue class if $(1 + X_1)^2 + (2 - X_2)^2 > 4$ and to the red class otherwise. To what class are the following observations classified? (0,0), (-1,1), (2,2), (3,8)"
      ]
    },
    {
      "cell_type": "markdown",
      "source": [
        "\n",
        "\n",
        "---\n",
        "\n",
        "\n",
        "If we replace X1 and X2 by the coordinates of the points in the equation we can confirm if the result is less or greater than 4. \n",
        "\n",
        "*   (0,0): 5>4 (blue class)\n",
        "*   (-1,1): 1<4 (red class)\n",
        "*   (2,2): 9>4 (blue class)\n",
        "*   (3,8): 52<4 (blue class)\n",
        "\n",
        "\n",
        "---\n",
        "\n"
      ],
      "metadata": {
        "id": "qpmkf3l6EE_2"
      }
    },
    {
      "cell_type": "markdown",
      "metadata": {
        "id": "Nv2QuI2D7pow"
      },
      "source": [
        "**c)** Prove that while the decision boundary in (b) is not linear in terms of $X_1$ and $X_2$, it is linear in terms of $X_1$, $X_1^2$, $X_2$, and $X_2^2$."
      ]
    },
    {
      "cell_type": "markdown",
      "metadata": {
        "id": "Ol2_PFGW7pow"
      },
      "source": [
        "\n",
        "\n",
        "---\n",
        "\n",
        "\n",
        "Solving the equation of the decision boundary, \n",
        "\n",
        "$(1+X_1)^2 + (2-X_2)^2 = 4 ⇔ {X_1}^2 + {X_2}^2 + 2X_1 - 4X_2 + 1=0 $\n",
        "\n",
        "We can conclude that it is linear in terms of $X_1, X_1^2, X_2, X_2^2$.\n",
        "\n",
        "\n",
        "---\n",
        "\n"
      ]
    },
    {
      "cell_type": "markdown",
      "metadata": {
        "id": "h2q_syKH7pox"
      },
      "source": [
        "# 4) Laboratory Questions\n",
        "\n",
        "What are the advantages and disadvantages of relational dabases versus graph databases, and when should one type be preferred over the other?"
      ]
    },
    {
      "cell_type": "markdown",
      "source": [
        "\n",
        "\n",
        "---\n",
        "\n",
        "\n",
        "Advantages of Relational Databases: \n",
        "- With proper indexing, relational databases are highly efficient for data retrieval. \n",
        "- They are well-suited for complex queries, with the ability to join multiple tables together.\n",
        "- Data is stored in a structured way, with the data organized into tables and columns, making it easier for users to query and manipulate the data.\n",
        "- These databases are also highly scalable, allowing for the addition of more data or additional features as needed.\n",
        "\n",
        "Disadvantages of Relational Databases:\n",
        "- There is a steep learning curve for users to understand the structure of the database and properly query it.\n",
        "- These databases are not always good for handling large amounts of unstructured data.\n",
        "- Maintenance of the database can be difficult, since changes to the schema can cause conflicts with existing data.\n",
        "\n",
        "Advantages of Graph Databases:\n",
        "- Graph databases are well-suited for data that has relationships, since they are able to store and query data in a more intuitive way.\n",
        "- They are highly efficient for traversing and querying data, since they store the data in a graph structure.\n",
        "- Graph databases can easily handle large amounts of unstructured data.\n",
        "\n",
        "\n",
        "Disadvantages of Graph Databases:\n",
        "- Expensive: Graph databases are expensive to set up and maintain, which may make them out of reach for some organizations.\n",
        "- Complex To Maintain: Graph databases require a higher level of technical expertise to maintain, which can be a challenge for some organizations.\n",
        "- Limited Data Types: Graph databases are limited in the types of data they can store, which may limit the amount of data that can be stored and accessed.\n",
        "- Limited Indexing Capabilities: Graph databases have limited indexing capabilities, which can make it difficult to quickly search and find data.\n",
        "\n",
        "\n",
        "---\n",
        "\n"
      ],
      "metadata": {
        "id": "CJ2420G8oK9q"
      }
    }
  ],
  "metadata": {
    "kernelspec": {
      "display_name": "Python 3",
      "language": "python",
      "name": "python3"
    },
    "language_info": {
      "codemirror_mode": {
        "name": "ipython",
        "version": 3
      },
      "file_extension": ".py",
      "mimetype": "text/x-python",
      "name": "python",
      "nbconvert_exporter": "python",
      "pygments_lexer": "ipython3",
      "version": "3.7.6"
    },
    "colab": {
      "provenance": [],
      "include_colab_link": true
    }
  },
  "nbformat": 4,
  "nbformat_minor": 0
}