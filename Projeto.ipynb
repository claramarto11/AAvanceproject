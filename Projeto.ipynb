{
  "nbformat": 4,
  "nbformat_minor": 0,
  "metadata": {
    "colab": {
      "provenance": [],
      "authorship_tag": "ABX9TyP4PTKGPi2t80cQj6tJfE/h",
      "include_colab_link": true
    },
    "kernelspec": {
      "name": "python3",
      "display_name": "Python 3"
    },
    "language_info": {
      "name": "python"
    }
  },
  "cells": [
    {
      "cell_type": "markdown",
      "metadata": {
        "id": "view-in-github",
        "colab_type": "text"
      },
      "source": [
        "<a href=\"https://colab.research.google.com/github/claramarto11/AAvanceproject/blob/main/Projeto.ipynb\" target=\"_parent\"><img src=\"https://colab.research.google.com/assets/colab-badge.svg\" alt=\"Open In Colab\"/></a>"
      ]
    },
    {
      "cell_type": "code",
      "execution_count": null,
      "metadata": {
        "id": "rGbOB_C9pons"
      },
      "outputs": [],
      "source": [
        "# Advanced Automation 2023's Project\n",
        "# Recommendation Engine & Hit Predictor // Spotify API\n",
        "\n",
        "!pip install requests\n",
        "!pip install spotipy\n",
        "\n",
        "import spotipy\n",
        "from spotipy.oauth2 import SpotifyClientCredentials\n",
        "import pandas as pd\n",
        "import os\n",
        "import base64\n",
        "from requests import post, get\n",
        "import json\n",
        "import csv\n",
        "import re\n",
        "import numpy as np"
      ]
    },
    {
      "cell_type": "code",
      "source": [
        "#Authentication \n",
        "\n",
        "idj= \"011d29dea2f644f78b4f5368ba0d317e\"\n",
        "secretj= \"86b22acbd4bf498591b038d69adea504\"\n",
        "\n",
        "client_credentials_manager = SpotifyClientCredentials(client_id=idj, client_secret=secretj)\n",
        "spj = spotipy.Spotify(client_credentials_manager = client_credentials_manager)\n",
        "\n",
        "playlist_link1 = \"https://open.spotify.com/playlist/1mXeUy5gxuy8juz2oiL5H6?si=537119c577b7402c\"\n",
        "playlist_id1 = playlist_link1.split(\"/\")[-1].split(\"?\")[0]\n",
        "\n",
        "playlist_link0 = \"https://open.spotify.com/playlist/0taMcedcWUKNvRKicX09ZX?si=2c702c6b8a3d44b1\"\n",
        "playlist_id0 = playlist_link0.split(\"/\")[-1].split(\"?\")[0]\n",
        "\n",
        "idr= \"295795f897a34beea5e5647da3e24aed\"\n",
        "secretr= \"f83912f9833f4d08a4adff6aa6e737c0\"\n",
        "\n",
        "client_credentials_manager = SpotifyClientCredentials(client_id=idr, client_secret=secretr)\n",
        "spr = spotipy.Spotify(client_credentials_manager = client_credentials_manager)\n",
        "\n",
        "playlist_linkrita = \"https://open.spotify.com/playlist/29sYKlIhyolbVhyudK5q5R?si=202a07665e124cd8&pt=b7c7740f225a0ffc5cf5b2e0f98deda1\"\n",
        "playlist_idrita = playlist_linkrita.split(\"/\")[-1].split(\"?\")[0]"
      ],
      "metadata": {
        "id": "mqomElpqp5kY"
      },
      "execution_count": 43,
      "outputs": []
    },
    {
      "cell_type": "code",
      "source": [
        "def call_playlistj(playlist_id):\n",
        "    results = spj.playlist_tracks(playlist_id)\n",
        "    tracks = results['items']\n",
        "    while results['next']:\n",
        "        results = spj.next(results)\n",
        "        tracks.extend(results['items'])\n",
        "    results = tracks    \n",
        "\n",
        "    playlist_tracks_id = []\n",
        "    playlist_tracks_titles = []\n",
        "    playlist_tracks_artists = []\n",
        "    playlist_tracks_first_artists = []\n",
        "    playlist_tracks_first_release_date = []\n",
        "    playlist_tracks_popularity = []\n",
        "\n",
        "    for i in range(len(results)):\n",
        "        if i == 0:\n",
        "            playlist_tracks_id = results[i]['track']['id']\n",
        "            playlist_tracks_titles = results[i]['track']['name']\n",
        "            playlist_tracks_first_release_date = results[i]['track']['album']['release_date']\n",
        "            playlist_tracks_popularity = results[i]['track']['popularity']\n",
        "\n",
        "            artist_list = []\n",
        "            for artist in results[i]['track']['artists']:\n",
        "                artist_list= artist['name']\n",
        "            playlist_tracks_artists = artist_list\n",
        "\n",
        "            features = spj.audio_features(playlist_tracks_id)\n",
        "            features_df = pd.DataFrame(data=features, columns=features[0].keys())\n",
        "            features_df['title'] = playlist_tracks_titles\n",
        "            features_df['all_artists'] = playlist_tracks_artists\n",
        "            features_df['popularity'] = playlist_tracks_popularity\n",
        "            features_df['release_date'] = playlist_tracks_first_release_date\n",
        "            features_df = features_df[['id', 'title', 'all_artists', 'popularity', 'release_date',\n",
        "                                       'danceability', 'energy', 'key', 'loudness',\n",
        "                                       'mode', 'acousticness', 'instrumentalness',\n",
        "                                       'liveness', 'valence', 'tempo',\n",
        "                                       'duration_ms', 'time_signature']]\n",
        "            continue\n",
        "        else:\n",
        "            try:\n",
        "                playlist_tracks_id = results[i]['track']['id']\n",
        "                playlist_tracks_titles = results[i]['track']['name']\n",
        "                playlist_tracks_first_release_date = results[i]['track']['album']['release_date']\n",
        "                playlist_tracks_popularity = results[i]['track']['popularity']\n",
        "                artist_list = []\n",
        "                for artist in results[i]['track']['artists']:\n",
        "                    artist_list= artist['name']\n",
        "                playlist_tracks_artists = artist_list\n",
        "                features = spj.audio_features(playlist_tracks_id)\n",
        "                new_row = {'id':[playlist_tracks_id],\n",
        "               'title':[playlist_tracks_titles],\n",
        "               'all_artists':[playlist_tracks_artists],\n",
        "               'popularity':[playlist_tracks_popularity],\n",
        "               'release_date':[playlist_tracks_first_release_date],\n",
        "               'danceability':[features[0]['danceability']],\n",
        "               'energy':[features[0]['energy']],\n",
        "               'key':[features[0]['key']],\n",
        "               'loudness':[features[0]['loudness']],\n",
        "               'mode':[features[0]['mode']],\n",
        "               'acousticness':[features[0]['acousticness']],\n",
        "               'instrumentalness':[features[0]['instrumentalness']],\n",
        "               'liveness':[features[0]['liveness']],\n",
        "               'valence':[features[0]['valence']],\n",
        "               'tempo':[features[0]['tempo']],\n",
        "               'duration_ms':[features[0]['duration_ms']],\n",
        "               'time_signature':[features[0]['time_signature']]\n",
        "               }\n",
        "\n",
        "                dfs = [features_df, pd.DataFrame(new_row)]\n",
        "                features_df = pd.concat(dfs, ignore_index = True)\n",
        "            except:\n",
        "                continue\n",
        "                \n",
        "    return features_df"
      ],
      "metadata": {
        "id": "aOsMsgETrGhS"
      },
      "execution_count": 44,
      "outputs": []
    },
    {
      "cell_type": "code",
      "source": [
        "def call_playlistr(playlist_id):\n",
        "    results = spr.playlist_tracks(playlist_id)\n",
        "    tracks = results['items']\n",
        "    while results['next']:\n",
        "        results = spr.next(results)\n",
        "        tracks.extend(results['items'])\n",
        "    results = tracks    \n",
        "\n",
        "    playlist_tracks_id = []\n",
        "    playlist_tracks_titles = []\n",
        "    playlist_tracks_artists = []\n",
        "    playlist_tracks_first_artists = []\n",
        "    playlist_tracks_first_release_date = []\n",
        "    playlist_tracks_popularity = []\n",
        "\n",
        "    for i in range(len(results)):\n",
        "        if i == 0:\n",
        "            playlist_tracks_id = results[i]['track']['id']\n",
        "            playlist_tracks_titles = results[i]['track']['name']\n",
        "            playlist_tracks_first_release_date = results[i]['track']['album']['release_date']\n",
        "            playlist_tracks_popularity = results[i]['track']['popularity']\n",
        "\n",
        "            artist_list = []\n",
        "            for artist in results[i]['track']['artists']:\n",
        "                artist_list= artist['name']\n",
        "            playlist_tracks_artists = artist_list\n",
        "\n",
        "            features = spr.audio_features(playlist_tracks_id)\n",
        "            features_df = pd.DataFrame(data=features, columns=features[0].keys())\n",
        "            features_df['title'] = playlist_tracks_titles\n",
        "            features_df['all_artists'] = playlist_tracks_artists\n",
        "            features_df['popularity'] = playlist_tracks_popularity\n",
        "            features_df['release_date'] = playlist_tracks_first_release_date\n",
        "            features_df = features_df[['id', 'title', 'all_artists', 'popularity', 'release_date',\n",
        "                                       'danceability', 'energy', 'key', 'loudness',\n",
        "                                       'mode', 'acousticness', 'instrumentalness',\n",
        "                                       'liveness', 'valence', 'tempo',\n",
        "                                       'duration_ms', 'time_signature']]\n",
        "            continue\n",
        "        else:\n",
        "            try:\n",
        "                playlist_tracks_id = results[i]['track']['id']\n",
        "                playlist_tracks_titles = results[i]['track']['name']\n",
        "                playlist_tracks_first_release_date = results[i]['track']['album']['release_date']\n",
        "                playlist_tracks_popularity = results[i]['track']['popularity']\n",
        "                artist_list = []\n",
        "                for artist in results[i]['track']['artists']:\n",
        "                    artist_list= artist['name']\n",
        "                playlist_tracks_artists = artist_list\n",
        "                features = spr.audio_features(playlist_tracks_id)\n",
        "                new_row = {'id':[playlist_tracks_id],\n",
        "               'title':[playlist_tracks_titles],\n",
        "               'all_artists':[playlist_tracks_artists],\n",
        "               'popularity':[playlist_tracks_popularity],\n",
        "               'release_date':[playlist_tracks_first_release_date],\n",
        "               'danceability':[features[0]['danceability']],\n",
        "               'energy':[features[0]['energy']],\n",
        "               'key':[features[0]['key']],\n",
        "               'loudness':[features[0]['loudness']],\n",
        "               'mode':[features[0]['mode']],\n",
        "               'acousticness':[features[0]['acousticness']],\n",
        "               'instrumentalness':[features[0]['instrumentalness']],\n",
        "               'liveness':[features[0]['liveness']],\n",
        "               'valence':[features[0]['valence']],\n",
        "               'tempo':[features[0]['tempo']],\n",
        "               'duration_ms':[features[0]['duration_ms']],\n",
        "               'time_signature':[features[0]['time_signature']]\n",
        "               }\n",
        "\n",
        "                dfs = [features_df, pd.DataFrame(new_row)]\n",
        "                features_df = pd.concat(dfs, ignore_index = True)\n",
        "            except:\n",
        "                continue\n",
        "                \n",
        "    return features_df"
      ],
      "metadata": {
        "id": "LCzDaK6vEoZ4"
      },
      "execution_count": 45,
      "outputs": []
    },
    {
      "cell_type": "code",
      "source": [
        "df1r=call_playlistr(playlist_idrita)\n",
        "df1r.to_csv('Playlist_rita_1.csv')\n",
        "df1r\n",
        "\n",
        "df1j=call_playlistj(playlist_id1)\n",
        "df1j.to_csv('Playlist_joao_1.csv')\n",
        "#df1j\n",
        "\n",
        "df0j=call_playlistj(playlist_id0)\n",
        "df0j.to_csv('Playlist_joao_0.csv')\n",
        "#df0j"
      ],
      "metadata": {
        "id": "0szOtKQGFQzb"
      },
      "execution_count": 59,
      "outputs": []
    },
    {
      "cell_type": "code",
      "source": [
        "#for i in range(len(df1r)):\n",
        "#  for j in range(len(df0j)):\n",
        "#    if df1r['id'][i]==df0j['id'][j]:\n",
        "#      print(i)\n",
        "#      continue      "
      ],
      "metadata": {
        "id": "16HxRFjFB-xs"
      },
      "execution_count": null,
      "outputs": []
    },
    {
      "cell_type": "code",
      "source": [
        "#for i in range(len(df1r)):\n",
        "#  for k in range(len(df1j)):\n",
        "#    if df1r['id'][i]==df1j['id'][k]:\n",
        "#      print(i)\n",
        "#      continue      "
      ],
      "metadata": {
        "id": "dUhLJRnHAi3-"
      },
      "execution_count": null,
      "outputs": []
    },
    {
      "cell_type": "code",
      "source": [
        "df0r= pd.concat([df1j, df0j])\n",
        "df0r.to_csv('Playlist_rita_0.csv')\n",
        "df0r"
      ],
      "metadata": {
        "id": "gKXDTO6aAkuI"
      },
      "execution_count": null,
      "outputs": []
    },
    {
      "cell_type": "code",
      "source": [
        "vector = np.arange(0, len(df0r))\n",
        "df0r=df0r.set_axis(vector, axis='index', inplace=False)"
      ],
      "metadata": {
        "id": "kva4PoS38h-v"
      },
      "execution_count": null,
      "outputs": []
    },
    {
      "cell_type": "code",
      "source": [
        "df1r.drop([128,210,243,253,436,437,438,463,488], axis=0, inplace=True)"
      ],
      "metadata": {
        "id": "SArD3Pxu9thA"
      },
      "execution_count": 65,
      "outputs": []
    },
    {
      "cell_type": "code",
      "source": [
        "vector1 = np.arange(0, len(df1r))\n",
        "df1r=df1r.set_axis(vector1, axis='index', inplace=False)"
      ],
      "metadata": {
        "id": "totZvsIo8-aD"
      },
      "execution_count": 71,
      "outputs": []
    },
    {
      "cell_type": "code",
      "source": [
        "df1r.drop(['id'], axis=1)\n",
        "df0r.drop(['id'], axis=1)"
      ],
      "metadata": {
        "id": "TJ6_uQ-qMvcQ"
      },
      "execution_count": null,
      "outputs": []
    },
    {
      "cell_type": "code",
      "source": [
        "df0r"
      ],
      "metadata": {
        "id": "d8wyGyJUIqrx"
      },
      "execution_count": null,
      "outputs": []
    },
    {
      "cell_type": "code",
      "source": [
        "df1r"
      ],
      "metadata": {
        "id": "L57FnXKAI3vL"
      },
      "execution_count": null,
      "outputs": []
    }
  ]
}